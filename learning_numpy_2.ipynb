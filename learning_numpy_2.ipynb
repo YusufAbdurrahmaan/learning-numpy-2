{
  "nbformat": 4,
  "nbformat_minor": 0,
  "metadata": {
    "colab": {
      "provenance": [],
      "authorship_tag": "ABX9TyNIbRhIevfzwsvcDVXxnV7H",
      "include_colab_link": true
    },
    "kernelspec": {
      "name": "python3",
      "display_name": "Python 3"
    },
    "language_info": {
      "name": "python"
    }
  },
  "cells": [
    {
      "cell_type": "markdown",
      "metadata": {
        "id": "view-in-github",
        "colab_type": "text"
      },
      "source": [
        "<a href=\"https://colab.research.google.com/github/YusufAbdurrahmaan/learning-numpy-2/blob/main/learning_numpy_2.ipynb\" target=\"_parent\"><img src=\"https://colab.research.google.com/assets/colab-badge.svg\" alt=\"Open In Colab\"/></a>"
      ]
    },
    {
      "cell_type": "code",
      "execution_count": 1,
      "metadata": {
        "id": "tw7hCDXZaYtM"
      },
      "outputs": [],
      "source": [
        "import numpy as np"
      ]
    },
    {
      "cell_type": "code",
      "source": [
        "array = np.array([[1,2,3],\n",
        "                  [4,5,6],\n",
        "                  [7,8,9],\n",
        "                  [8,9,10]])\n",
        "\n",
        "# mengakses baris ke 0 dan sebelum ke 4 dan longkap 2\n",
        "print(array[0:4:2])\n",
        "\n",
        "# ambil satu kolom tertentu dari beberapa baris\n",
        "print(array[1:,2])\n",
        "print(array[:2])\n",
        "\n",
        "# ambil satu baris utuh\n",
        "print(array[1:2])\n",
        "\n",
        "# ambil satu angka\n",
        "print(array[0][1])"
      ],
      "metadata": {
        "colab": {
          "base_uri": "https://localhost:8080/"
        },
        "id": "RG1jXZJQachX",
        "outputId": "9ae3a807-7ae5-431e-cafc-abbac9aa5343"
      },
      "execution_count": 13,
      "outputs": [
        {
          "output_type": "stream",
          "name": "stdout",
          "text": [
            "[[1 2 3]\n",
            " [7 8 9]]\n",
            "[ 6  9 10]\n",
            "[[1 2 3]\n",
            " [4 5 6]]\n",
            "[[4 5 6]]\n",
            "2\n"
          ]
        }
      ]
    },
    {
      "cell_type": "code",
      "source": [
        "arr1 = np.array([[1,2,3,4],[1,2,3,4]])\n",
        "arr2 = np.array([1,2,3,4])\n",
        "\n",
        "kali = arr1 @ arr2\n",
        "print(kali)"
      ],
      "metadata": {
        "colab": {
          "base_uri": "https://localhost:8080/"
        },
        "id": "nxLslCx9b2qw",
        "outputId": "4cc4c83a-c419-497f-b4db-4d4213e1fdd5"
      },
      "execution_count": 9,
      "outputs": [
        {
          "output_type": "stream",
          "name": "stdout",
          "text": [
            "[30 30]\n"
          ]
        }
      ]
    }
  ]
}